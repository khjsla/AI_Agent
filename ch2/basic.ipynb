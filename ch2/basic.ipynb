{
 "cells": [
  {
   "attachments": {},
   "cell_type": "markdown",
   "metadata": {},
   "source": [
    "# 01"
   ]
  },
  {
   "cell_type": "markdown",
   "metadata": {},
   "source": [
    "**Part 1. AI Agent 이해와 입문 프로젝트**\n",
    "\n",
    "- Chapter 02. LangGraph 기초 다지기\n",
    "\n",
    "    - **📒[이론 + 실습]** Clip 02. LangGraph 필수 구성요소"
   ]
  },
  {
   "attachments": {},
   "cell_type": "markdown",
   "metadata": {},
   "source": [
    "## State (상태)\n",
    "\n",
    "State 는 Agent의 현재 상태를 나타내는 데이터 구조이며, 주로 `TypedDict`, Pydantic `BaseModel` 을 사용합니다.\n"
   ]
  },
  {
   "cell_type": "markdown",
   "metadata": {},
   "source": [
    "### 1. `TypedDict` , Pydantic `BaseModel` 이해하기"
   ]
  },
  {
   "cell_type": "code",
   "execution_count": 1,
   "metadata": {},
   "outputs": [
    {
     "name": "stdout",
     "output_type": "stream",
     "text": [
      "{'id': 1, 'name': 'khj', 'email': 'rkdguswlsla@gmail.com'}\n"
     ]
    }
   ],
   "source": [
    "from typing import TypedDict\n",
    "\n",
    "class User(TypedDict):\n",
    "    id: int\n",
    "    name: str\n",
    "    email: str\n",
    "\n",
    "user1: User = {\n",
    "    'id': 1,\n",
    "    'name': 'khj',\n",
    "    'email': 'rkdguswlsla@gmail.com'\n",
    "}\n",
    "print(user1)"
   ]
  },
  {
   "cell_type": "code",
   "execution_count": 2,
   "metadata": {},
   "outputs": [
    {
     "name": "stdout",
     "output_type": "stream",
     "text": [
      "{'id': 1, 'name': 123, 'email': 'rkdguswlsla@gmail.com'}\n"
     ]
    }
   ],
   "source": [
    "user1: User = {\n",
    "    'id': 1,\n",
    "    'name': 123,\n",
    "    'email': 'rkdguswlsla@gmail.com'\n",
    "}\n",
    "print(user1)"
   ]
  },
  {
   "cell_type": "code",
   "execution_count": 1,
   "metadata": {},
   "outputs": [
    {
     "name": "stdout",
     "output_type": "stream",
     "text": [
      "id=1 name='khj' email='rkdguswlsla@gmail.com'\n"
     ]
    }
   ],
   "source": [
    "from pydantic import BaseModel\n",
    "## 3.11.2 version unavailable.\n",
    "## so, upgrade to 3.13.5 with conda\n",
    "\n",
    "class User(BaseModel):\n",
    "    id: int\n",
    "    name: str\n",
    "    email: str\n",
    "\n",
    "user_data = {\n",
    "    'id': 1,\n",
    "    'name': 'khj',\n",
    "    'email': 'rkdguswlsla@gmail.com'\n",
    "}\n",
    "\n",
    "user1 = User(**user_data)\n",
    "print(user1)"
   ]
  },
  {
   "cell_type": "code",
   "execution_count": 3,
   "metadata": {},
   "outputs": [
    {
     "ename": "ValidationError",
     "evalue": "1 validation error for User\nname\n  Input should be a valid string [type=string_type, input_value=123, input_type=int]\n    For further information visit https://errors.pydantic.dev/2.10/v/string_type",
     "output_type": "error",
     "traceback": [
      "\u001b[0;31m---------------------------------------------------------------------------\u001b[0m",
      "\u001b[0;31mValidationError\u001b[0m                           Traceback (most recent call last)",
      "Cell \u001b[0;32mIn[3], line 7\u001b[0m\n\u001b[1;32m      1\u001b[0m user_data \u001b[39m=\u001b[39m {\n\u001b[1;32m      2\u001b[0m     \u001b[39m'\u001b[39m\u001b[39mid\u001b[39m\u001b[39m'\u001b[39m: \u001b[39m1\u001b[39m,\n\u001b[1;32m      3\u001b[0m     \u001b[39m'\u001b[39m\u001b[39mname\u001b[39m\u001b[39m'\u001b[39m: \u001b[39m123\u001b[39m,\n\u001b[1;32m      4\u001b[0m     \u001b[39m'\u001b[39m\u001b[39memail\u001b[39m\u001b[39m'\u001b[39m: \u001b[39m'\u001b[39m\u001b[39mkhjsla@gmail.com\u001b[39m\u001b[39m'\u001b[39m\n\u001b[1;32m      5\u001b[0m }\n\u001b[0;32m----> 7\u001b[0m user \u001b[39m=\u001b[39m User(\u001b[39m*\u001b[39m\u001b[39m*\u001b[39muser_data)\n\u001b[1;32m      8\u001b[0m \u001b[39mprint\u001b[39m(user)\n",
      "File \u001b[0;32m/opt/anaconda3/lib/python3.13/site-packages/pydantic/main.py:214\u001b[0m, in \u001b[0;36mBaseModel.__init__\u001b[0;34m(self, **data)\u001b[0m\n\u001b[1;32m    212\u001b[0m \u001b[39m# `__tracebackhide__` tells pytest and some other tools to omit this function from tracebacks\u001b[39;00m\n\u001b[1;32m    213\u001b[0m __tracebackhide__ \u001b[39m=\u001b[39m \u001b[39mTrue\u001b[39;00m\n\u001b[0;32m--> 214\u001b[0m validated_self \u001b[39m=\u001b[39m \u001b[39mself\u001b[39m\u001b[39m.\u001b[39m__pydantic_validator__\u001b[39m.\u001b[39mvalidate_python(data, self_instance\u001b[39m=\u001b[39m\u001b[39mself\u001b[39m)\n\u001b[1;32m    215\u001b[0m \u001b[39mif\u001b[39;00m \u001b[39mself\u001b[39m \u001b[39mis\u001b[39;00m \u001b[39mnot\u001b[39;00m validated_self:\n\u001b[1;32m    216\u001b[0m     warnings\u001b[39m.\u001b[39mwarn(\n\u001b[1;32m    217\u001b[0m         \u001b[39m'\u001b[39m\u001b[39mA custom validator is returning a value other than `self`.\u001b[39m\u001b[39m\\n\u001b[39;00m\u001b[39m'\u001b[39m\n\u001b[1;32m    218\u001b[0m         \u001b[39m\"\u001b[39m\u001b[39mReturning anything other than `self` from a top level model validator isn\u001b[39m\u001b[39m'\u001b[39m\u001b[39mt supported when validating via `__init__`.\u001b[39m\u001b[39m\\n\u001b[39;00m\u001b[39m\"\u001b[39m\n\u001b[1;32m    219\u001b[0m         \u001b[39m'\u001b[39m\u001b[39mSee the `model_validator` docs (https://docs.pydantic.dev/latest/concepts/validators/#model-validators) for more details.\u001b[39m\u001b[39m'\u001b[39m,\n\u001b[1;32m    220\u001b[0m         stacklevel\u001b[39m=\u001b[39m\u001b[39m2\u001b[39m,\n\u001b[1;32m    221\u001b[0m     )\n",
      "\u001b[0;31mValidationError\u001b[0m: 1 validation error for User\nname\n  Input should be a valid string [type=string_type, input_value=123, input_type=int]\n    For further information visit https://errors.pydantic.dev/2.10/v/string_type"
     ]
    }
   ],
   "source": [
    "user_data = {\n",
    "    'id': 1,\n",
    "    'name': 123,\n",
    "    'email': 'khjsla@gmail.com'\n",
    "}\n",
    "\n",
    "user = User(**user_data)\n",
    "print(user)"
   ]
  },
  {
   "cell_type": "markdown",
   "metadata": {},
   "source": [
    "- 잘못된 데이터 타입이라면 오류 메시지를 반환"
   ]
  },
  {
   "cell_type": "markdown",
   "metadata": {},
   "source": [
    "### 2. 상태 - Graph Schema 지정하기\n",
    "\n",
    "State(상태) 라는 것은 **그래프의 스키마**와 상태에 업데이트를 적용하는 방법을 지정하는 **리듀서 함수**로 구성됨\n",
    "\n",
    "- 에이전트를 구현하게 될 때, <u>**에이전트가 가지고 있어야 할 정보**</u>를 상태를 통해 업데이트 해주는 작업을 진행\n",
    "\n",
    "- 아래 예시에서는 기본적으로 사용자의 질문과 답변을 정해진 데이터 구조(State)에 맞춰 입력 받고 반환하는 것"
   ]
  },
  {
   "cell_type": "code",
   "execution_count": 8,
   "metadata": {},
   "outputs": [
    {
     "name": "stdout",
     "output_type": "stream",
     "text": [
      "Requirement already satisfied: langgraph in /opt/anaconda3/lib/python3.13/site-packages (1.0.0)\n",
      "Requirement already satisfied: langchain-core>=0.1 in /opt/anaconda3/lib/python3.13/site-packages (from langgraph) (1.0.0)\n",
      "Requirement already satisfied: langgraph-checkpoint<3.0.0,>=2.1.0 in /opt/anaconda3/lib/python3.13/site-packages (from langgraph) (2.1.2)\n",
      "Requirement already satisfied: langgraph-prebuilt<1.1.0,>=1.0.0 in /opt/anaconda3/lib/python3.13/site-packages (from langgraph) (1.0.0)\n",
      "Requirement already satisfied: langgraph-sdk<0.3.0,>=0.2.2 in /opt/anaconda3/lib/python3.13/site-packages (from langgraph) (0.2.9)\n",
      "Requirement already satisfied: pydantic>=2.7.4 in /opt/anaconda3/lib/python3.13/site-packages (from langgraph) (2.10.3)\n",
      "Requirement already satisfied: xxhash>=3.5.0 in /opt/anaconda3/lib/python3.13/site-packages (from langgraph) (3.6.0)\n",
      "Requirement already satisfied: ormsgpack>=1.10.0 in /opt/anaconda3/lib/python3.13/site-packages (from langgraph-checkpoint<3.0.0,>=2.1.0->langgraph) (1.11.0)\n",
      "Requirement already satisfied: httpx>=0.25.2 in /opt/anaconda3/lib/python3.13/site-packages (from langgraph-sdk<0.3.0,>=0.2.2->langgraph) (0.28.1)\n",
      "Requirement already satisfied: orjson>=3.10.1 in /opt/anaconda3/lib/python3.13/site-packages (from langgraph-sdk<0.3.0,>=0.2.2->langgraph) (3.11.3)\n",
      "Requirement already satisfied: anyio in /opt/anaconda3/lib/python3.13/site-packages (from httpx>=0.25.2->langgraph-sdk<0.3.0,>=0.2.2->langgraph) (4.7.0)\n",
      "Requirement already satisfied: certifi in /opt/anaconda3/lib/python3.13/site-packages (from httpx>=0.25.2->langgraph-sdk<0.3.0,>=0.2.2->langgraph) (2025.4.26)\n",
      "Requirement already satisfied: httpcore==1.* in /opt/anaconda3/lib/python3.13/site-packages (from httpx>=0.25.2->langgraph-sdk<0.3.0,>=0.2.2->langgraph) (1.0.9)\n",
      "Requirement already satisfied: idna in /opt/anaconda3/lib/python3.13/site-packages (from httpx>=0.25.2->langgraph-sdk<0.3.0,>=0.2.2->langgraph) (3.7)\n",
      "Requirement already satisfied: h11>=0.16 in /opt/anaconda3/lib/python3.13/site-packages (from httpcore==1.*->httpx>=0.25.2->langgraph-sdk<0.3.0,>=0.2.2->langgraph) (0.16.0)\n",
      "Requirement already satisfied: jsonpatch<2.0.0,>=1.33.0 in /opt/anaconda3/lib/python3.13/site-packages (from langchain-core>=0.1->langgraph) (1.33)\n",
      "Requirement already satisfied: langsmith<1.0.0,>=0.3.45 in /opt/anaconda3/lib/python3.13/site-packages (from langchain-core>=0.1->langgraph) (0.4.37)\n",
      "Requirement already satisfied: packaging<26.0.0,>=23.2.0 in /opt/anaconda3/lib/python3.13/site-packages (from langchain-core>=0.1->langgraph) (24.2)\n",
      "Requirement already satisfied: pyyaml<7.0.0,>=5.3.0 in /opt/anaconda3/lib/python3.13/site-packages (from langchain-core>=0.1->langgraph) (6.0.2)\n",
      "Requirement already satisfied: tenacity!=8.4.0,<10.0.0,>=8.1.0 in /opt/anaconda3/lib/python3.13/site-packages (from langchain-core>=0.1->langgraph) (9.0.0)\n",
      "Requirement already satisfied: typing-extensions<5.0.0,>=4.7.0 in /opt/anaconda3/lib/python3.13/site-packages (from langchain-core>=0.1->langgraph) (4.12.2)\n",
      "Requirement already satisfied: jsonpointer>=1.9 in /opt/anaconda3/lib/python3.13/site-packages (from jsonpatch<2.0.0,>=1.33.0->langchain-core>=0.1->langgraph) (2.1)\n",
      "Requirement already satisfied: requests-toolbelt>=1.0.0 in /opt/anaconda3/lib/python3.13/site-packages (from langsmith<1.0.0,>=0.3.45->langchain-core>=0.1->langgraph) (1.0.0)\n",
      "Requirement already satisfied: requests>=2.0.0 in /opt/anaconda3/lib/python3.13/site-packages (from langsmith<1.0.0,>=0.3.45->langchain-core>=0.1->langgraph) (2.32.3)\n",
      "Requirement already satisfied: zstandard>=0.23.0 in /opt/anaconda3/lib/python3.13/site-packages (from langsmith<1.0.0,>=0.3.45->langchain-core>=0.1->langgraph) (0.23.0)\n",
      "Requirement already satisfied: annotated-types>=0.6.0 in /opt/anaconda3/lib/python3.13/site-packages (from pydantic>=2.7.4->langgraph) (0.6.0)\n",
      "Requirement already satisfied: pydantic-core==2.27.1 in /opt/anaconda3/lib/python3.13/site-packages (from pydantic>=2.7.4->langgraph) (2.27.1)\n",
      "Requirement already satisfied: charset-normalizer<4,>=2 in /opt/anaconda3/lib/python3.13/site-packages (from requests>=2.0.0->langsmith<1.0.0,>=0.3.45->langchain-core>=0.1->langgraph) (3.3.2)\n",
      "Requirement already satisfied: urllib3<3,>=1.21.1 in /opt/anaconda3/lib/python3.13/site-packages (from requests>=2.0.0->langsmith<1.0.0,>=0.3.45->langchain-core>=0.1->langgraph) (2.3.0)\n",
      "Requirement already satisfied: sniffio>=1.1 in /opt/anaconda3/lib/python3.13/site-packages (from anyio->httpx>=0.25.2->langgraph-sdk<0.3.0,>=0.2.2->langgraph) (1.3.0)\n",
      "Note: you may need to restart the kernel to use updated packages.\n"
     ]
    }
   ],
   "source": [
    "# StateGraph 등 사용하려면 langgraph 설치 필요\n",
    "pip install langgraph"
   ]
  },
  {
   "cell_type": "code",
   "execution_count": 7,
   "metadata": {},
   "outputs": [],
   "source": [
    "from langgraph.graph import StateGraph, START, END\n",
    "from typing_extensions import TypedDict\n",
    "\n",
    "\n",
    "# (사용자) 입력을 위한 스키마 정의\n",
    "class InputState(TypedDict):\n",
    "    question: str\n",
    "\n",
    "\n",
    "# (ai) 출력을 위한 스키마 정의\n",
    "class OutputState(TypedDict):\n",
    "    answer: str\n",
    "\n",
    "\n",
    "# 입력과 출력을 합한 종합 스키마 정의\n",
    "class OverallState(InputState, OutputState):\n",
    "    pass"
   ]
  },
  {
   "cell_type": "code",
   "execution_count": 9,
   "metadata": {},
   "outputs": [
    {
     "name": "stdout",
     "output_type": "stream",
     "text": [
      "{'answer': 'bye'}\n"
     ]
    },
    {
     "name": "stderr",
     "output_type": "stream",
     "text": [
      "/var/folders/vq/cklpfj457sg4n1tgp2dbvsf80000gn/T/ipykernel_56887/3779834567.py:7: LangGraphDeprecatedSinceV05: `input` is deprecated and will be removed. Please use `input_schema` instead. Deprecated in LangGraph V0.5 to be removed in V2.0.\n",
      "  graph_builder = StateGraph(OverallState, input=InputState, output=OutputState)\n",
      "/var/folders/vq/cklpfj457sg4n1tgp2dbvsf80000gn/T/ipykernel_56887/3779834567.py:7: LangGraphDeprecatedSinceV05: `output` is deprecated and will be removed. Please use `output_schema` instead. Deprecated in LangGraph V0.5 to be removed in V2.0.\n",
      "  graph_builder = StateGraph(OverallState, input=InputState, output=OutputState)\n"
     ]
    }
   ],
   "source": [
    "# 입력을 처리하고 답변을 생성하는 노드 정의\n",
    "def answer_node(state: InputState):\n",
    "    # Example answer and an extra key\n",
    "    return {\"answer\": \"bye\", \"question\": state[\"question\"]} # 상태 업데이트\n",
    "\n",
    "\n",
    "graph_builder = StateGraph(OverallState, input=InputState, output=OutputState)\n",
    "graph_builder.add_node(answer_node)  # 답변 노드 추가\n",
    "graph_builder.add_edge(START, \"answer_node\")  # 시작 엣지 추가\n",
    "graph_builder.add_edge(\"answer_node\", END)  # 끝 엣지 추가\n",
    "graph = graph_builder.compile()  # Compile the graph\n",
    "\n",
    "# 입력 invoke 및 결과 출력\n",
    "print(graph.invoke({\"question\": \"hi\"}))"
   ]
  },
  {
   "cell_type": "code",
   "execution_count": 7,
   "metadata": {},
   "outputs": [
    {
     "data": {
      "image/png": "[encoded data removed]",
      "text/plain": [
       "<langgraph.graph.state.CompiledStateGraph object at 0x00000209D06FB610>"
      ]
     },
     "execution_count": 7,
     "metadata": {},
     "output_type": "execute_result"
    }
   ],
   "source": [
    "graph"
   ]
  },
  {
   "cell_type": "markdown",
   "metadata": {},
   "source": [
    "### 3. 상태 - Reducer 지정하기\n",
    "\n",
    "리듀서(Reducer)는 노드의 업데이트가 State(상태)에 적용되는 방식을 지정하는 함수\n"
   ]
  },
  {
   "cell_type": "markdown",
   "metadata": {},
   "source": [
    "1 ) 리듀서가 지정되지 않은 경우"
   ]
  },
  {
   "cell_type": "code",
   "execution_count": 10,
   "metadata": {},
   "outputs": [],
   "source": [
    "from typing_extensions import TypedDict\n",
    "\n",
    "class State(TypedDict):\n",
    "    value1: int\n",
    "    value2: list[str]"
   ]
  },
  {
   "cell_type": "markdown",
   "metadata": {},
   "source": [
    "2 ) 리듀서가 지정된 경우(`operator.add`)"
   ]
  },
  {
   "cell_type": "code",
   "execution_count": 11,
   "metadata": {},
   "outputs": [],
   "source": [
    "from typing import Annotated\n",
    "from typing_extensions import TypedDict\n",
    "from operator import add\n",
    "\n",
    "class State(TypedDict):\n",
    "    value1: int\n",
    "    value2: Annotated[list[str], add] #append 'add'"
   ]
  },
  {
   "cell_type": "markdown",
   "metadata": {},
   "source": [
    "3 ) 리듀서가 지정된 경우(`custom add`)"
   ]
  },
  {
   "cell_type": "code",
   "execution_count": 10,
   "metadata": {},
   "outputs": [],
   "source": [
    "from typing_extensions import Annotated\n",
    "from typing_extensions import TypedDict\n",
    "\n",
    "# custom add func\n",
    "def add(left, right):\n",
    "    \"\"\"Can also import `add` from the `operator` built-in.\"\"\"\n",
    "    return left + right\n",
    "\n",
    "\n",
    "class State(TypedDict):\n",
    "    value1: int\n",
    "    value2: Annotated[list[str], add]"
   ]
  },
  {
   "cell_type": "markdown",
   "metadata": {},
   "source": [
    "4 ) 리듀서가 지정된 경우(`add_messages`)\n",
    "\n",
    "\n",
    "- [add_messages](https://langchain-ai.github.io/langgraph/reference/graphs/#langgraph.graph.message.add_messages) 는 기존 메시지에서 추가 메시지를 병합하는 데 사용하는 함수로, 새로 들어온 메시지를 추가할 때 사용할 수 있는 리듀서 역할\n",
    "\n",
    "    - 사용 예시\n",
    "\n",
    "        ```python\n",
    "        msgs1 = [HumanMessage(content=\"Hello\", id=\"1\")]\n",
    "        msgs2 = [AIMessage(content=\"Hi there!\", id=\"2\")]\n",
    "        add_messages(msgs1, msgs2)\n",
    "        ```"
   ]
  },
  {
   "cell_type": "code",
   "execution_count": 12,
   "metadata": {},
   "outputs": [],
   "source": [
    "from langchain_core.messages import AnyMessage\n",
    "from langgraph.graph.message import add_messages\n",
    "from typing import Annotated\n",
    "from typing_extensions import TypedDict\n",
    "\n",
    "class State(TypedDict):\n",
    "    messages: Annotated[list[AnyMessage], add_messages]"
   ]
  },
  {
   "cell_type": "markdown",
   "metadata": {},
   "source": [
    "## Nodes\n",
    "\n",
    "노드는 Agent가 수행하는 논리를 구현하는 함수로 표현됨"
   ]
  },
  {
   "cell_type": "markdown",
   "metadata": {},
   "source": [
    "### 1. 노드를 추가하는 방법"
   ]
  },
  {
   "cell_type": "code",
   "execution_count": 13,
   "metadata": {},
   "outputs": [
    {
     "data": {
      "text/plain": [
       "<langgraph.graph.state.StateGraph at 0x10c5c9bd0>"
      ]
     },
     "execution_count": 13,
     "metadata": {},
     "output_type": "execute_result"
    }
   ],
   "source": [
    "from langgraph.graph import StateGraph\n",
    "\n",
    "builder = StateGraph(dict) #first graph\n",
    "\n",
    "\n",
    "def my_node(state: dict):\n",
    "    return {\"results\": f\"Hello, {state['input']}!\"}\n",
    "\n",
    "\n",
    "def my_other_node(state: dict):\n",
    "    return state\n",
    "\n",
    "\n",
    "builder.add_node(\"my_node\", my_node)\n",
    "builder.add_node(\"other_node\", my_other_node)"
   ]
  },
  {
   "cell_type": "markdown",
   "metadata": {},
   "source": [
    "### 2. 노드의 기능을 구현하는 방법"
   ]
  },
  {
   "cell_type": "code",
   "execution_count": 16,
   "metadata": {},
   "outputs": [],
   "source": [
    "from typing import Annotated\n",
    "from typing_extensions import TypedDict\n",
    "\n",
    "from langgraph.graph import StateGraph, START, END\n",
    "\n",
    "from operator import add\n",
    "\n",
    "class State(TypedDict):\n",
    "    messages: Annotated[list[str], add]\n",
    "\n",
    "\n",
    "graph = StateGraph(State)"
   ]
  },
  {
   "cell_type": "code",
   "execution_count": 17,
   "metadata": {},
   "outputs": [
    {
     "data": {
      "text/plain": [
       "<langgraph.graph.state.StateGraph at 0x10ddf6fd0>"
      ]
     },
     "execution_count": 17,
     "metadata": {},
     "output_type": "execute_result"
    }
   ],
   "source": [
    "def chatbot(state: State):\n",
    "    answer = \"안녕하세요! 무엇을 도와드릴까요?\"\n",
    "    print(\"Answer : \", answer)\n",
    "\n",
    "    return {\"messages\": [answer]} # state\n",
    "\n",
    "\n",
    "graph.add_node(\"chatbot\", chatbot)"
   ]
  },
  {
   "cell_type": "code",
   "execution_count": 18,
   "metadata": {},
   "outputs": [],
   "source": [
    "graph.add_edge(START, \"chatbot\")\n",
    "graph.add_edge(\"chatbot\", END)\n",
    "graph = graph.compile()"
   ]
  },
  {
   "cell_type": "code",
   "execution_count": 19,
   "metadata": {},
   "outputs": [
    {
     "name": "stdout",
     "output_type": "stream",
     "text": [
      "Answer :  안녕하세요! 무엇을 도와드릴까요?\n"
     ]
    },
    {
     "data": {
      "text/plain": [
       "{'messages': ['안녕!', '안녕하세요! 무엇을 도와드릴까요?']}"
      ]
     },
     "execution_count": 19,
     "metadata": {},
     "output_type": "execute_result"
    }
   ],
   "source": [
    "graph.invoke({\"messages\": [\"안녕!\"]})"
   ]
  },
  {
   "cell_type": "markdown",
   "metadata": {},
   "source": [
    "## Edges"
   ]
  },
  {
   "cell_type": "markdown",
   "metadata": {},
   "source": [
    "- 기본 엣지 (Normal Edges): 한 노드에서 다음 노드로 바로 이동\n",
    "\n",
    "    ```python\n",
    "    graph.add_edge(\"node_a\", \"node_b\")\n",
    "    ```\n"
   ]
  },
  {
   "attachments": {
    "image.png": {
     "image/png": "[encoded data removed]"
    }
   },
   "cell_type": "markdown",
   "metadata": {},
   "source": [
    "### Routing \n",
    "\n",
    "라우팅이란, **입력을 분류하고 후속 작업으로 안내하는 과정**으로 다음으로 진행되어야 할 스텝을 결정하여 보내주는 것\n",
    "\n",
    "![image.png](attachment:image.png)"
   ]
  },
  {
   "cell_type": "markdown",
   "metadata": {},
   "source": [
    "- 조건부 엣지 (Conditional Edges): 다음으로 이동할 노드를 결정하는 함수를 호출하여 결과에 따라 이동"
   ]
  },
  {
   "cell_type": "code",
   "execution_count": 17,
   "metadata": {},
   "outputs": [],
   "source": [
    "class State(TypedDict):\n",
    "    input: str\n",
    "    output: str"
   ]
  },
  {
   "cell_type": "code",
   "execution_count": 18,
   "metadata": {},
   "outputs": [],
   "source": [
    "router_builder = StateGraph(State)"
   ]
  },
  {
   "cell_type": "code",
   "execution_count": 19,
   "metadata": {},
   "outputs": [],
   "source": [
    "def routing_function(state: State):\n",
    "    if state[\"input\"] == \"isroute\":\n",
    "        return True\n",
    "    return False"
   ]
  },
  {
   "cell_type": "code",
   "execution_count": 20,
   "metadata": {},
   "outputs": [
    {
     "data": {
      "text/plain": [
       "<langgraph.graph.state.StateGraph at 0x209d1152f50>"
      ]
     },
     "execution_count": 20,
     "metadata": {},
     "output_type": "execute_result"
    }
   ],
   "source": [
    "router_builder.add_conditional_edges(\"node_a\", routing_function, {True: \"node_b\", False: \"node_c\"})\n",
    "#약간 lambda 같이 활용이 되넹"
   ]
  },
  {
   "cell_type": "markdown",
   "metadata": {},
   "source": [
    "- 진입점 (Entry Point): 사용자 입력이 도착하면 호출할 노드\n",
    "\n",
    "    ```python\n",
    "    from langgraph.graph import START\n",
    "\n",
    "    graph.add_edge(START, \"node_a\")\n",
    "    ```\n",
    "\n",
    "\n",
    "\n"
   ]
  },
  {
   "cell_type": "markdown",
   "metadata": {},
   "source": [
    "- 조건부 진입점 (Conditional Entry Point): 사용자 입력이 도착하면 호출할 노드를 결정하는 함수를 호출하여 결과에 따라 이동\n",
    "\n",
    "    ```python\n",
    "    graph.add_conditional_edges(START, routing_function, {True: \"node_b\", False: \"node_c\"})\n",
    "    ```"
   ]
  },
  {
   "attachments": {},
   "cell_type": "markdown",
   "metadata": {},
   "source": [
    "# 02"
   ]
  },
  {
   "cell_type": "markdown",
   "metadata": {},
   "source": [
    "**Part 1. AI Agent 이해와 입문 프로젝트**\n",
    "\n",
    "- Chapter 02. LangGraph 기초 다지기\n",
    "\n",
    "    - **📒[실습]** Clip 03. LangGraph 기본 사용법 - 그래프의 상태 업데이트"
   ]
  },
  {
   "cell_type": "markdown",
   "metadata": {},
   "source": [
    "## 대화메시지 상태 업데이트하기"
   ]
  },
  {
   "cell_type": "markdown",
   "metadata": {},
   "source": [
    "- `HumanMessage` : 사용자(사람)의 메시지\n",
    "\n",
    "- `AIMessage` : AI(LLM)의 메시지\n",
    "\n",
    "- `AnyMessage` : HumanMessage, AIMessage를 포함하는 메시지"
   ]
  },
  {
   "cell_type": "code",
   "execution_count": 1,
   "metadata": {},
   "outputs": [],
   "source": [
    "from langchain_core.messages import AnyMessage\n",
    "from typing_extensions import TypedDict\n",
    "\n",
    "\n",
    "class State(TypedDict):\n",
    "    messages: list[AnyMessage]\n",
    "    extra_field: int"
   ]
  },
  {
   "cell_type": "code",
   "execution_count": 2,
   "metadata": {},
   "outputs": [],
   "source": [
    "from langchain_core.messages import AIMessage\n",
    "\n",
    "\n",
    "def node(state: State):\n",
    "    messages = state[\"messages\"]\n",
    "    new_message = AIMessage(\"안녕하세요! 무엇을 도와드릴까요?\")\n",
    "\n",
    "    # 노드 실행 시 state 업데이트 = 노드의 return \n",
    "    # return {\"messages\": new_message, \"extra_field\": 10} \n",
    "    return {\"messages\": messages + [new_message], \"extra_field\": 10}"
   ]
  },
  {
   "cell_type": "markdown",
   "metadata": {},
   "source": [
    "`set_entry_point` : 그래프의 시작 노드를 지정하는 엣지 (START -> \"node\")"
   ]
  },
  {
   "cell_type": "code",
   "execution_count": 3,
   "metadata": {},
   "outputs": [],
   "source": [
    "from langgraph.graph import StateGraph\n",
    "\n",
    "graph_builder = StateGraph(State)\n",
    "graph_builder.add_node(\"node\", node)\n",
    "graph_builder.set_entry_point(\"node\")\n",
    "graph = graph_builder.compile()"
   ]
  },
  {
   "cell_type": "code",
   "execution_count": 4,
   "metadata": {},
   "outputs": [
    {
     "data": {
      "image/png": "[encoded data removed]",
      "text/plain": [
       "<IPython.core.display.Image object>"
      ]
     },
     "metadata": {},
     "output_type": "display_data"
    }
   ],
   "source": [
    "from IPython.display import Image, display\n",
    "\n",
    "display(Image(graph.get_graph().draw_mermaid_png()))"
   ]
  },
  {
   "cell_type": "code",
   "execution_count": 5,
   "metadata": {},
   "outputs": [
    {
     "data": {
      "text/plain": [
       "{'messages': [HumanMessage(content='안녕', additional_kwargs={}, response_metadata={}),\n",
       "  AIMessage(content='안녕하세요! 무엇을 도와드릴까요?', additional_kwargs={}, response_metadata={})],\n",
       " 'extra_field': 10}"
      ]
     },
     "execution_count": 5,
     "metadata": {},
     "output_type": "execute_result"
    }
   ],
   "source": [
    "from langchain_core.messages import HumanMessage\n",
    "\n",
    "result = graph.invoke({\"messages\": [HumanMessage(\"안녕\")]})\n",
    "result"
   ]
  },
  {
   "cell_type": "code",
   "execution_count": 6,
   "metadata": {},
   "outputs": [
    {
     "data": {
      "text/plain": [
       "[HumanMessage(content='안녕', additional_kwargs={}, response_metadata={}),\n",
       " AIMessage(content='안녕하세요! 무엇을 도와드릴까요?', additional_kwargs={}, response_metadata={})]"
      ]
     },
     "execution_count": 6,
     "metadata": {},
     "output_type": "execute_result"
    }
   ],
   "source": [
    "result[\"messages\"]"
   ]
  },
  {
   "cell_type": "code",
   "execution_count": null,
   "metadata": {},
   "outputs": [],
   "source": []
  },
  {
   "cell_type": "markdown",
   "metadata": {},
   "source": [
    "## 대화메시지 상태 누적 업데이트하기"
   ]
  },
  {
   "cell_type": "markdown",
   "metadata": {},
   "source": [
    "`from langgraph.graph.message import add_messages` \n",
    "\n",
    "[add_messages](https://langchain-ai.github.io/langgraph/reference/graphs/#langgraph.graph.message.add_messages) 는 기존 메시지에서 추가 메시지를 병합하는 데 사용하는 함수로, 새로 들어온 메시지를 추가할 때 사용할 수 있는 리듀서 역할\n",
    "\n",
    "- 사용 예시\n",
    "\n",
    "    ```python\n",
    "    msgs1 = [HumanMessage(content=\"Hello\", id=\"1\")]\n",
    "    msgs2 = [AIMessage(content=\"Hi there!\", id=\"2\")]\n",
    "    add_messages(msgs1, msgs2)\n",
    "    ```"
   ]
  },
  {
   "cell_type": "code",
   "execution_count": 7,
   "metadata": {},
   "outputs": [],
   "source": [
    "from typing_extensions import Annotated\n",
    "from langgraph.graph.message import add_messages\n",
    "\n",
    "\n",
    "class State(TypedDict):\n",
    "    messages: Annotated[list[AnyMessage], add_messages]\n",
    "    extra_field: int"
   ]
  },
  {
   "cell_type": "code",
   "execution_count": 8,
   "metadata": {},
   "outputs": [],
   "source": [
    "def node(state: State):\n",
    "    messages = state[\"messages\"]\n",
    "    new_message = AIMessage(\"안녕하세요! 무엇을 도와드릴까요?\")\n",
    "\n",
    "    return {\"messages\": new_message, \"extra_field\": 10}"
   ]
  },
  {
   "cell_type": "code",
   "execution_count": 9,
   "metadata": {},
   "outputs": [],
   "source": [
    "from langgraph.graph import StateGraph\n",
    "\n",
    "graph_builder = StateGraph(State)\n",
    "graph_builder.add_node(\"node\", node)\n",
    "graph_builder.set_entry_point(\"node\")\n",
    "graph = graph_builder.compile()"
   ]
  },
  {
   "cell_type": "code",
   "execution_count": 10,
   "metadata": {},
   "outputs": [
    {
     "data": {
      "image/png": "[encoded data removed]",
      "text/plain": [
       "<IPython.core.display.Image object>"
      ]
     },
     "metadata": {},
     "output_type": "display_data"
    }
   ],
   "source": [
    "display(Image(graph.get_graph().draw_mermaid_png()))"
   ]
  },
  {
   "cell_type": "code",
   "execution_count": 11,
   "metadata": {},
   "outputs": [
    {
     "name": "stdout",
     "output_type": "stream",
     "text": [
      "================================\u001b[1m Human Message \u001b[0m=================================\n",
      "\n",
      "안녕하세요.\n",
      "==================================\u001b[1m Ai Message \u001b[0m==================================\n",
      "\n",
      "안녕하세요! 무엇을 도와드릴까요?\n"
     ]
    }
   ],
   "source": [
    "input_message = {\"role\": \"user\", \"content\": \"안녕하세요.\"}\n",
    "\n",
    "result = graph.invoke({\"messages\": [input_message]})\n",
    "\n",
    "for message in result[\"messages\"]:\n",
    "    message.pretty_print()"
   ]
  },
  {
   "cell_type": "code",
   "execution_count": 12,
   "metadata": {},
   "outputs": [
    {
     "data": {
      "text/plain": [
       "[HumanMessage(content='안녕하세요.', additional_kwargs={}, response_metadata={}, id='f2c0ac05-3ce6-4b2d-be2f-ebff4c5713d6'),\n",
       " AIMessage(content='안녕하세요! 무엇을 도와드릴까요?', additional_kwargs={}, response_metadata={}, id='9e8b4beb-4f58-456d-9eba-2f54d9de8bce')]"
      ]
     },
     "execution_count": 12,
     "metadata": {},
     "output_type": "execute_result"
    }
   ],
   "source": [
    "result[\"messages\"]"
   ]
  },
  {
   "cell_type": "code",
   "execution_count": null,
   "metadata": {},
   "outputs": [],
   "source": []
  },
  {
   "cell_type": "markdown",
   "metadata": {},
   "source": [
    "## 부록) Graph 결과 호출 방식 정리하기"
   ]
  },
  {
   "cell_type": "markdown",
   "metadata": {},
   "source": [
    "`invoke` : 하나의 요청에 대한 결과를 받을 때 까지 코드 실행 멈춤. 한번에 하나의 요청을 처리함"
   ]
  },
  {
   "cell_type": "code",
   "execution_count": 13,
   "metadata": {},
   "outputs": [
    {
     "data": {
      "text/plain": [
       "{'messages': [HumanMessage(content='안녕하세요.', additional_kwargs={}, response_metadata={}, id='55b91018-1766-41fc-a3e7-1e3a262188f1'),\n",
       "  AIMessage(content='안녕하세요! 무엇을 도와드릴까요?', additional_kwargs={}, response_metadata={}, id='38609c63-22a6-4645-932c-bba9e4ab5f2f')],\n",
       " 'extra_field': 10}"
      ]
     },
     "execution_count": 13,
     "metadata": {},
     "output_type": "execute_result"
    }
   ],
   "source": [
    "graph.invoke({\"messages\": [input_message]})"
   ]
  },
  {
   "cell_type": "markdown",
   "metadata": {},
   "source": [
    "`ainvoke` : 비동기 처리로 여러 요청을 동시에 보낼 수 있음"
   ]
  },
  {
   "cell_type": "code",
   "execution_count": 14,
   "metadata": {},
   "outputs": [
    {
     "data": {
      "text/plain": [
       "{'messages': [HumanMessage(content='안녕하세요.', additional_kwargs={}, response_metadata={}, id='6940dfef-de1f-4ced-91f1-f4f91654a6de'),\n",
       "  AIMessage(content='안녕하세요! 무엇을 도와드릴까요?', additional_kwargs={}, response_metadata={}, id='089fee1d-ea16-432b-827c-ce2a0a4c1879')],\n",
       " 'extra_field': 10}"
      ]
     },
     "execution_count": 14,
     "metadata": {},
     "output_type": "execute_result"
    }
   ],
   "source": [
    "await graph.ainvoke({\"messages\": [input_message]})"
   ]
  },
  {
   "cell_type": "markdown",
   "metadata": {},
   "source": [
    "`stream` : 중간 결과를 실시간으로 반환함"
   ]
  },
  {
   "cell_type": "markdown",
   "metadata": {},
   "source": [
    "- `stream_mode=\"values\"` 각 단계의 현재 상태 값 출력"
   ]
  },
  {
   "cell_type": "code",
   "execution_count": 15,
   "metadata": {},
   "outputs": [
    {
     "name": "stdout",
     "output_type": "stream",
     "text": [
      "{'messages': [HumanMessage(content='안녕하세요.', additional_kwargs={}, response_metadata={}, id='0c09dd34-e262-4c59-8253-1c68da8bd1c8')]}\n",
      "================================\u001b[1m Human Message \u001b[0m=================================\n",
      "\n",
      "안녕하세요.\n",
      "{'messages': [HumanMessage(content='안녕하세요.', additional_kwargs={}, response_metadata={}, id='0c09dd34-e262-4c59-8253-1c68da8bd1c8'), AIMessage(content='안녕하세요! 무엇을 도와드릴까요?', additional_kwargs={}, response_metadata={}, id='0e40e8ab-2dcc-4619-9c31-4744a17f5b8a')], 'extra_field': 10}\n",
      "==================================\u001b[1m Ai Message \u001b[0m==================================\n",
      "\n",
      "안녕하세요! 무엇을 도와드릴까요?\n"
     ]
    }
   ],
   "source": [
    "for chunk in graph.stream({\"messages\": [input_message]}, stream_mode=\"values\"):\n",
    "    print(chunk)\n",
    "    for state_key, state_value in chunk.items():\n",
    "        if state_key == \"messages\":\n",
    "            state_value[-1].pretty_print()"
   ]
  },
  {
   "cell_type": "markdown",
   "metadata": {},
   "source": [
    "- (Default) `stream_mode=\"updates\"` 각 단계의 상태 업데이트만 출력"
   ]
  },
  {
   "cell_type": "code",
   "execution_count": 16,
   "metadata": {},
   "outputs": [
    {
     "name": "stdout",
     "output_type": "stream",
     "text": [
      "{'node': {'messages': AIMessage(content='안녕하세요! 무엇을 도와드릴까요?', additional_kwargs={}, response_metadata={}, id='3a20857e-6a37-4dd8-b514-eb33b780ae7a'), 'extra_field': 10}}\n",
      "node\n",
      "안녕하세요! 무엇을 도와드릴까요?\n"
     ]
    }
   ],
   "source": [
    "for chunk in graph.stream({\"messages\": [input_message]}, stream_mode=\"updates\"):\n",
    "    print(chunk)\n",
    "    for node, value in chunk.items():\n",
    "        if node:\n",
    "            print(node)\n",
    "        if \"messages\" in value:\n",
    "            print(value['messages'].content)"
   ]
  },
  {
   "cell_type": "markdown",
   "metadata": {},
   "source": [
    "- `stream_mode=\"messages\"` 각 단계의 메시지 출력 \n",
    "\n",
    "    - 메시지\n",
    "    - 메타데이터"
   ]
  },
  {
   "cell_type": "code",
   "execution_count": 17,
   "metadata": {},
   "outputs": [
    {
     "name": "stdout",
     "output_type": "stream",
     "text": [
      "content='안녕하세요! 무엇을 도와드릴까요?' additional_kwargs={} response_metadata={} id='d39ccc72-c9bb-4e73-948e-c0ad25039854'\n",
      "안녕하세요! 무엇을 도와드릴까요?\n",
      "{'langgraph_step': 1, 'langgraph_node': 'node', 'langgraph_triggers': ('branch:to:node', 'start:node'), 'langgraph_path': ('__pregel_pull', 'node'), 'langgraph_checkpoint_ns': 'node:7bf5dbc5-bb4e-e12d-84d8-feb9e26b5993'}\n",
      "node\n"
     ]
    }
   ],
   "source": [
    "for chunk_msg, metadata in graph.stream({\"messages\": [input_message]}, stream_mode=\"messages\"):\n",
    "    print(chunk_msg)\n",
    "    print(chunk_msg.content)\n",
    "    print(metadata)\n",
    "    print(metadata[\"langgraph_node\"])"
   ]
  },
  {
   "cell_type": "markdown",
   "metadata": {},
   "source": [
    "`astream` : 비동기 방식으로 스트리밍 처리"
   ]
  },
  {
   "cell_type": "code",
   "execution_count": 18,
   "metadata": {},
   "outputs": [
    {
     "name": "stdout",
     "output_type": "stream",
     "text": [
      "content='안녕하세요! 무엇을 도와드릴까요?' additional_kwargs={} response_metadata={} id='ff77916a-a34d-4ea3-9eeb-225ed3b70984'\n",
      "안녕하세요! 무엇을 도와드릴까요?\n",
      "{'langgraph_step': 1, 'langgraph_node': 'node', 'langgraph_triggers': ('branch:to:node', 'start:node'), 'langgraph_path': ('__pregel_pull', 'node'), 'langgraph_checkpoint_ns': 'node:ae21d541-c5c9-ebf2-8ad6-bf791412153c'}\n",
      "node\n"
     ]
    }
   ],
   "source": [
    "async for chunk_msg, metadata in graph.astream({\"messages\": [input_message]}, stream_mode=\"messages\"):\n",
    "    print(chunk_msg)\n",
    "    print(chunk_msg.content)\n",
    "    print(metadata)\n",
    "    print(metadata[\"langgraph_node\"])"
   ]
  },
  {
   "cell_type": "code",
   "execution_count": null,
   "metadata": {},
   "outputs": [],
   "source": []
  },
  {
   "attachments": {},
   "cell_type": "markdown",
   "metadata": {},
   "source": [
    "# 03"
   ]
  },
  {
   "cell_type": "markdown",
   "metadata": {},
   "source": [
    "**Part 1. AI Agent 이해와 입문 프로젝트**\n",
    "\n",
    "- Chapter 02. LangGraph 기초 다지기\n",
    "\n",
    "    - **📒[실습]** Clip 04. LangGraph 기본 사용법 - 노드와 엣지 연결"
   ]
  },
  {
   "cell_type": "markdown",
   "metadata": {},
   "source": [
    "## 노드와 엣지 연결하기"
   ]
  },
  {
   "cell_type": "code",
   "execution_count": 1,
   "metadata": {},
   "outputs": [],
   "source": [
    "from typing_extensions import TypedDict\n",
    "\n",
    "\n",
    "class State(TypedDict):\n",
    "    value_1: str\n",
    "    value_2: int"
   ]
  },
  {
   "cell_type": "code",
   "execution_count": 2,
   "metadata": {},
   "outputs": [],
   "source": [
    "def step_1(state: State):\n",
    "    return {\"value_1\": state[\"value_1\"]}\n",
    "\n",
    "\n",
    "def step_2(state: State):\n",
    "    current_value_1 = state[\"value_1\"]\n",
    "    return {\"value_1\": f\"{current_value_1} b\"}\n",
    "\n",
    "\n",
    "def step_3(state: State):\n",
    "    return {\"value_2\": 10}"
   ]
  },
  {
   "cell_type": "code",
   "execution_count": 3,
   "metadata": {},
   "outputs": [
    {
     "data": {
      "text/plain": [
       "<langgraph.graph.state.StateGraph at 0x24f85fa2290>"
      ]
     },
     "execution_count": 3,
     "metadata": {},
     "output_type": "execute_result"
    }
   ],
   "source": [
    "from langgraph.graph import START, StateGraph\n",
    "\n",
    "graph_builder = StateGraph(State)\n",
    "\n",
    "# 노드 추가\n",
    "graph_builder.add_node(step_1)\n",
    "graph_builder.add_node(step_2)\n",
    "graph_builder.add_node(step_3)\n",
    "\n",
    "# 엣지 추가\n",
    "graph_builder.add_edge(START, \"step_1\") # START ->1\n",
    "graph_builder.add_edge(\"step_1\", \"step_2\") # 1-> 2\n",
    "graph_builder.add_edge(\"step_2\", \"step_3\") # 2->3"
   ]
  },
  {
   "cell_type": "code",
   "execution_count": 4,
   "metadata": {},
   "outputs": [],
   "source": [
    "graph = graph_builder.compile()"
   ]
  },
  {
   "cell_type": "code",
   "execution_count": 5,
   "metadata": {},
   "outputs": [
    {
     "data": {
      "image/png": "[encoded data removed]",
      "text/plain": [
       "<IPython.core.display.Image object>"
      ]
     },
     "metadata": {},
     "output_type": "display_data"
    }
   ],
   "source": [
    "from IPython.display import Image, display\n",
    "\n",
    "display(Image(graph.get_graph().draw_mermaid_png()))"
   ]
  },
  {
   "cell_type": "code",
   "execution_count": 6,
   "metadata": {},
   "outputs": [
    {
     "data": {
      "text/plain": [
       "{'value_1': 'fadgdsge b', 'value_2': 10}"
      ]
     },
     "execution_count": 6,
     "metadata": {},
     "output_type": "execute_result"
    }
   ],
   "source": [
    "graph.invoke({\"value_1\": \"fadgdsge\"})"
   ]
  },
  {
   "cell_type": "code",
   "execution_count": null,
   "metadata": {},
   "outputs": [],
   "source": []
  },
  {
   "cell_type": "markdown",
   "metadata": {},
   "source": [
    "## 한번에 연결하기(add_sequence)"
   ]
  },
  {
   "cell_type": "code",
   "execution_count": 7,
   "metadata": {},
   "outputs": [
    {
     "data": {
      "text/plain": [
       "{'value_1': 'c b', 'value_2': 10}"
      ]
     },
     "execution_count": 7,
     "metadata": {},
     "output_type": "execute_result"
    }
   ],
   "source": [
    "graph_builder = StateGraph(State).add_sequence([step_1, step_2, step_3])\n",
    "graph_builder.add_edge(START, \"step_1\")\n",
    "\n",
    "graph = graph_builder.compile()\n",
    "\n",
    "graph.invoke({\"value_1\": \"c\"})"
   ]
  },
  {
   "cell_type": "code",
   "execution_count": null,
   "metadata": {},
   "outputs": [],
   "source": []
  },
  {
   "cell_type": "markdown",
   "metadata": {},
   "source": [
    "## 병렬로 연결하기"
   ]
  },
  {
   "attachments": {
    "image.png": {
     "image/png": "[encoded data removed]"
    }
   },
   "cell_type": "markdown",
   "metadata": {},
   "source": [
    "![image.png](attachment:image.png)"
   ]
  },
  {
   "cell_type": "code",
   "execution_count": 8,
   "metadata": {},
   "outputs": [],
   "source": [
    "import operator\n",
    "from typing import Annotated, Any\n",
    "\n",
    "from typing_extensions import TypedDict\n",
    "\n",
    "from langgraph.graph import StateGraph, START, END\n",
    "\n",
    "\n",
    "class State(TypedDict):\n",
    "    aggregate: Annotated[list, operator.add] # 업데이트 값이 뒤에 추가되도록 하는 operator.add 리듀서"
   ]
  },
  {
   "cell_type": "code",
   "execution_count": 9,
   "metadata": {},
   "outputs": [],
   "source": [
    "def a(state: State):\n",
    "    print(f'Adding \"A\" to {state[\"aggregate\"]}')\n",
    "    return {\"aggregate\": [\"A\"]}\n",
    "\n",
    "\n",
    "def b(state: State):\n",
    "    print(f'Adding \"B\" to {state[\"aggregate\"]}')\n",
    "    return {\"aggregate\": [\"B\"]}\n",
    "\n",
    "\n",
    "def c(state: State):\n",
    "    print(f'Adding \"C\" to {state[\"aggregate\"]}')\n",
    "    return {\"aggregate\": [\"C\"]}\n",
    "\n",
    "\n",
    "def d(state: State):\n",
    "    print(f'Adding \"D\" to {state[\"aggregate\"]}')\n",
    "    return {\"aggregate\": [\"D\"]}"
   ]
  },
  {
   "cell_type": "code",
   "execution_count": 10,
   "metadata": {},
   "outputs": [
    {
     "data": {
      "text/plain": [
       "<langgraph.graph.state.StateGraph at 0x24f88346a10>"
      ]
     },
     "execution_count": 10,
     "metadata": {},
     "output_type": "execute_result"
    }
   ],
   "source": [
    "graph_builder = StateGraph(State)\n",
    "\n",
    "# 노드 추가\n",
    "graph_builder.add_node(a)\n",
    "graph_builder.add_node(b)\n",
    "graph_builder.add_node(c)\n",
    "graph_builder.add_node(d)"
   ]
  },
  {
   "cell_type": "code",
   "execution_count": 11,
   "metadata": {},
   "outputs": [],
   "source": [
    "# 엣지 추가\n",
    "graph_builder.add_edge(START, \"a\")\n",
    "graph_builder.add_edge(\"a\", \"b\") # a -> b\n",
    "graph_builder.add_edge(\"a\", \"c\") # a -> c\n",
    "graph_builder.add_edge(\"b\", \"d\") # b -> d\n",
    "graph_builder.add_edge(\"c\", \"d\") # c -> d\n",
    "graph_builder.add_edge(\"d\", END)\n",
    "graph = graph_builder.compile()"
   ]
  },
  {
   "cell_type": "code",
   "execution_count": 12,
   "metadata": {},
   "outputs": [
    {
     "data": {
      "image/png": "[encoded data removed]",
      "text/plain": [
       "<IPython.core.display.Image object>"
      ]
     },
     "metadata": {},
     "output_type": "display_data"
    }
   ],
   "source": [
    "from IPython.display import Image, display\n",
    "\n",
    "display(Image(graph.get_graph().draw_mermaid_png()))"
   ]
  },
  {
   "cell_type": "code",
   "execution_count": 13,
   "metadata": {},
   "outputs": [
    {
     "name": "stdout",
     "output_type": "stream",
     "text": [
      "Adding \"A\" to []\n",
      "Adding \"B\" to ['A']\n",
      "Adding \"C\" to ['A']\n",
      "Adding \"D\" to ['A', 'B', 'C']\n"
     ]
    },
    {
     "data": {
      "text/plain": [
       "{'aggregate': ['A', 'B', 'C', 'D']}"
      ]
     },
     "execution_count": 13,
     "metadata": {},
     "output_type": "execute_result"
    }
   ],
   "source": [
    "graph.invoke({\"aggregate\":[]})"
   ]
  },
  {
   "cell_type": "code",
   "execution_count": null,
   "metadata": {},
   "outputs": [],
   "source": []
  },
  {
   "cell_type": "markdown",
   "metadata": {},
   "source": [
    "## 조건부 엣지 병렬 연결하기"
   ]
  },
  {
   "attachments": {
    "image.png": {
     "image/png": "[encoded data removed]"
    }
   },
   "cell_type": "markdown",
   "metadata": {},
   "source": [
    "![image.png](attachment:image.png)"
   ]
  },
  {
   "cell_type": "code",
   "execution_count": 14,
   "metadata": {},
   "outputs": [],
   "source": [
    "import operator\n",
    "from typing import Annotated, Sequence\n",
    "\n",
    "from typing_extensions import TypedDict\n",
    "\n",
    "from langgraph.graph import StateGraph, START, END\n",
    "\n",
    "\n",
    "class State(TypedDict):\n",
    "    aggregate: Annotated[list, operator.add]\n",
    "    which: str"
   ]
  },
  {
   "cell_type": "code",
   "execution_count": 15,
   "metadata": {},
   "outputs": [],
   "source": [
    "def a(state: State):\n",
    "    print(f'Adding \"A\" to {state[\"aggregate\"]}')\n",
    "    return {\"aggregate\": [\"A\"]}\n",
    "\n",
    "\n",
    "def b(state: State):\n",
    "    print(f'Adding \"B\" to {state[\"aggregate\"]}')\n",
    "    return {\"aggregate\": [\"B\"]}\n",
    "\n",
    "\n",
    "def c(state: State):\n",
    "    print(f'Adding \"C\" to {state[\"aggregate\"]}')\n",
    "    return {\"aggregate\": [\"C\"]}\n",
    "\n",
    "\n",
    "def d(state: State):\n",
    "    print(f'Adding \"D\" to {state[\"aggregate\"]}')\n",
    "    return {\"aggregate\": [\"D\"]}\n",
    "\n",
    "\n",
    "def e(state: State):\n",
    "    print(f'Adding \"E\" to {state[\"aggregate\"]}')\n",
    "    return {\"aggregate\": [\"E\"]}"
   ]
  },
  {
   "cell_type": "code",
   "execution_count": 16,
   "metadata": {},
   "outputs": [
    {
     "data": {
      "text/plain": [
       "<langgraph.graph.state.StateGraph at 0x24f8837fa10>"
      ]
     },
     "execution_count": 16,
     "metadata": {},
     "output_type": "execute_result"
    }
   ],
   "source": [
    "graph_builder = StateGraph(State)\n",
    "graph_builder.add_node(a)\n",
    "graph_builder.add_node(b)\n",
    "graph_builder.add_node(c)\n",
    "graph_builder.add_node(d)\n",
    "graph_builder.add_node(e)\n",
    "graph_builder.add_edge(START, \"a\")"
   ]
  },
  {
   "cell_type": "code",
   "execution_count": 17,
   "metadata": {},
   "outputs": [
    {
     "data": {
      "text/plain": [
       "<langgraph.graph.state.StateGraph at 0x24f8837fa10>"
      ]
     },
     "execution_count": 17,
     "metadata": {},
     "output_type": "execute_result"
    }
   ],
   "source": [
    "# bc 혹은 cd 로 라우트를 결정하는 함수\n",
    "def route_bc_or_cd(state: State) -> Sequence[str]:\n",
    "    if state[\"which\"] == \"cd\":\n",
    "        return [\"c\", \"d\"]\n",
    "    return [\"b\", \"c\"]\n",
    "\n",
    "\n",
    "intermediates = [\"b\", \"c\", \"d\"]\n",
    "graph_builder.add_conditional_edges(\n",
    "    \"a\",\n",
    "    route_bc_or_cd,\n",
    "    intermediates,\n",
    ")"
   ]
  },
  {
   "cell_type": "code",
   "execution_count": 18,
   "metadata": {},
   "outputs": [],
   "source": [
    "for node in intermediates:\n",
    "    graph_builder.add_edge(node, \"e\")\n",
    "\n",
    "graph_builder.add_edge(\"e\", END)\n",
    "graph = graph_builder.compile()"
   ]
  },
  {
   "cell_type": "code",
   "execution_count": 19,
   "metadata": {},
   "outputs": [
    {
     "data": {
      "image/png": "[encoded data removed]",
      "text/plain": [
       "<IPython.core.display.Image object>"
      ]
     },
     "metadata": {},
     "output_type": "display_data"
    }
   ],
   "source": [
    "from IPython.display import Image, display\n",
    "\n",
    "display(Image(graph.get_graph().draw_mermaid_png()))"
   ]
  },
  {
   "cell_type": "code",
   "execution_count": 20,
   "metadata": {},
   "outputs": [
    {
     "name": "stdout",
     "output_type": "stream",
     "text": [
      "Adding \"A\" to []\n",
      "Adding \"B\" to ['A']\n",
      "Adding \"C\" to ['A']\n",
      "Adding \"E\" to ['A', 'B', 'C']\n"
     ]
    },
    {
     "data": {
      "text/plain": [
       "{'aggregate': ['A', 'B', 'C', 'E'], 'which': 'bc'}"
      ]
     },
     "execution_count": 20,
     "metadata": {},
     "output_type": "execute_result"
    }
   ],
   "source": [
    "graph.invoke({\"aggregate\": [], \"which\": \"bc\"})"
   ]
  },
  {
   "cell_type": "code",
   "execution_count": 21,
   "metadata": {},
   "outputs": [
    {
     "name": "stdout",
     "output_type": "stream",
     "text": [
      "Adding \"A\" to []\n",
      "Adding \"C\" to ['A']\n",
      "Adding \"D\" to ['A']\n",
      "Adding \"E\" to ['A', 'C', 'D']\n"
     ]
    },
    {
     "data": {
      "text/plain": [
       "{'aggregate': ['A', 'C', 'D', 'E'], 'which': 'cd'}"
      ]
     },
     "execution_count": 21,
     "metadata": {},
     "output_type": "execute_result"
    }
   ],
   "source": [
    "graph.invoke({\"aggregate\": [], \"which\": \"cd\"})"
   ]
  },
  {
   "cell_type": "code",
   "execution_count": null,
   "metadata": {},
   "outputs": [],
   "source": []
  },
  {
   "cell_type": "code",
   "execution_count": null,
   "metadata": {},
   "outputs": [],
   "source": []
  },
  {
   "cell_type": "markdown",
   "metadata": {},
   "source": [
    "**Part 1. AI Agent 이해와 입문 프로젝트**\n",
    "\n",
    "- Chapter 02. LangGraph 기초 다지기\n",
    "\n",
    "    - **📒[실습]** Clip 05. LangGraph 기본 사용법 - 조건과 반복"
   ]
  },
  {
   "cell_type": "markdown",
   "metadata": {},
   "source": [
    "## 1. 조건에 따른 반복 처리하기"
   ]
  },
  {
   "attachments": {
    "image.png": {
     "image/png": "[encoded data removed]"
    }
   },
   "cell_type": "markdown",
   "metadata": {},
   "source": [
    "![image.png](attachment:image.png)"
   ]
  },
  {
   "cell_type": "code",
   "execution_count": 1,
   "metadata": {},
   "outputs": [],
   "source": [
    "import operator\n",
    "from typing import Annotated\n",
    "\n",
    "from typing_extensions import TypedDict\n",
    "\n",
    "from langgraph.graph import StateGraph, START, END\n",
    "\n",
    "\n",
    "class State(TypedDict):\n",
    "    aggregate: Annotated[list, operator.add]"
   ]
  },
  {
   "cell_type": "code",
   "execution_count": 2,
   "metadata": {},
   "outputs": [
    {
     "data": {
      "text/plain": [
       "<langgraph.graph.state.StateGraph at 0x1fffb48fe90>"
      ]
     },
     "execution_count": 2,
     "metadata": {},
     "output_type": "execute_result"
    }
   ],
   "source": [
    "def a(state: State):\n",
    "    print(f'Node A 처리 중 현재 상태값 : {state[\"aggregate\"]}')\n",
    "    return {\"aggregate\": [\"A\"]}\n",
    "\n",
    "\n",
    "def b(state: State):\n",
    "    print(f'Node B 처리 중 현재 상태값 : {state[\"aggregate\"]}')\n",
    "    return {\"aggregate\": [\"B\"]}\n",
    "\n",
    "\n",
    "graph_builder = StateGraph(State)\n",
    "graph_builder.add_node(a)\n",
    "graph_builder.add_node(b)"
   ]
  },
  {
   "cell_type": "code",
   "execution_count": 3,
   "metadata": {},
   "outputs": [],
   "source": [
    "def route(state: State):\n",
    "    if len(state[\"aggregate\"]) < 7:\n",
    "        return \"b\"\n",
    "    else:\n",
    "        return END\n",
    "\n",
    "\n",
    "graph_builder.add_edge(START, \"a\")\n",
    "graph_builder.add_conditional_edges(\"a\", route)\n",
    "graph_builder.add_edge(\"b\", \"a\")\n",
    "graph = graph_builder.compile()"
   ]
  },
  {
   "cell_type": "code",
   "execution_count": 8,
   "metadata": {},
   "outputs": [],
   "source": [
    "# from IPython.display import Image, display\n",
    "\n",
    "# display(Image(graph.get_graph().draw_mermaid_png()))"
   ]
  },
  {
   "cell_type": "code",
   "execution_count": 9,
   "metadata": {},
   "outputs": [
    {
     "data": {
      "image/png": "[encoded data removed]",
      "text/plain": [
       "<IPython.core.display.Image object>"
      ]
     },
     "metadata": {},
     "output_type": "display_data"
    }
   ],
   "source": [
    "import requests, zlib, base64\n",
    "from IPython.display import Image\n",
    "\n",
    "# Mermaid 코드 추출\n",
    "code = graph.get_graph().draw_mermaid()\n",
    "\n",
    "# 압축·인코딩 후 Kroki 요청\n",
    "encoded = base64.urlsafe_b64encode(zlib.compress(code.encode())).decode()\n",
    "url = f\"https://kroki.io/mermaid/png/{encoded}\"\n",
    "resp = requests.get(url)\n",
    "display(Image(resp.content))"
   ]
  },
  {
   "cell_type": "code",
   "execution_count": 10,
   "metadata": {},
   "outputs": [
    {
     "name": "stdout",
     "output_type": "stream",
     "text": [
      "Node A 처리 중 현재 상태값 : []\n",
      "Node B 처리 중 현재 상태값 : ['A']\n",
      "Node A 처리 중 현재 상태값 : ['A', 'B']\n",
      "Node B 처리 중 현재 상태값 : ['A', 'B', 'A']\n",
      "Node A 처리 중 현재 상태값 : ['A', 'B', 'A', 'B']\n",
      "Node B 처리 중 현재 상태값 : ['A', 'B', 'A', 'B', 'A']\n",
      "Node A 처리 중 현재 상태값 : ['A', 'B', 'A', 'B', 'A', 'B']\n"
     ]
    },
    {
     "data": {
      "text/plain": [
       "{'aggregate': ['A', 'B', 'A', 'B', 'A', 'B', 'A']}"
      ]
     },
     "execution_count": 10,
     "metadata": {},
     "output_type": "execute_result"
    }
   ],
   "source": [
    "graph.invoke({\"aggregate\": []})"
   ]
  },
  {
   "cell_type": "code",
   "execution_count": null,
   "metadata": {},
   "outputs": [],
   "source": []
  },
  {
   "cell_type": "markdown",
   "metadata": {},
   "source": [
    "- GraphRecursionError 로 에러를 반환하는 방법"
   ]
  },
  {
   "cell_type": "code",
   "execution_count": 11,
   "metadata": {},
   "outputs": [
    {
     "name": "stdout",
     "output_type": "stream",
     "text": [
      "Node A 처리 중 현재 상태값 : []\n",
      "Node B 처리 중 현재 상태값 : ['A']\n",
      "Node A 처리 중 현재 상태값 : ['A', 'B']\n",
      "Node B 처리 중 현재 상태값 : ['A', 'B', 'A']\n",
      "Recursion Error\n"
     ]
    }
   ],
   "source": [
    "from langgraph.errors import GraphRecursionError\n",
    "\n",
    "try:\n",
    "    graph.invoke({\"aggregate\": []}, config={\"recursion_limit\": 4})\n",
    "except GraphRecursionError: # 반복 종료 조건에 도달할 수 없는 경우\n",
    "    print(\"Recursion Error\")"
   ]
  },
  {
   "cell_type": "code",
   "execution_count": null,
   "metadata": {},
   "outputs": [],
   "source": []
  },
  {
   "cell_type": "code",
   "execution_count": null,
   "metadata": {},
   "outputs": [],
   "source": []
  },
  {
   "cell_type": "markdown",
   "metadata": {},
   "source": [
    "## 2. 조건에 따른 반복 처리하기 (더 복잡한 노드와 엣지 연결)"
   ]
  },
  {
   "attachments": {
    "image.png": {
     "image/png": "[encoded data removed]"
    }
   },
   "cell_type": "markdown",
   "metadata": {},
   "source": [
    "![image.png](attachment:image.png)"
   ]
  },
  {
   "cell_type": "code",
   "execution_count": 12,
   "metadata": {},
   "outputs": [],
   "source": [
    "import operator\n",
    "from typing import Annotated, Literal\n",
    "\n",
    "from typing_extensions import TypedDict\n",
    "\n",
    "from langgraph.graph import StateGraph, START, END\n",
    "\n",
    "\n",
    "class State(TypedDict):\n",
    "    aggregate: Annotated[list, operator.add]"
   ]
  },
  {
   "cell_type": "code",
   "execution_count": 13,
   "metadata": {},
   "outputs": [
    {
     "data": {
      "text/plain": [
       "<langgraph.graph.state.StateGraph at 0x1fffbb6ef10>"
      ]
     },
     "execution_count": 13,
     "metadata": {},
     "output_type": "execute_result"
    }
   ],
   "source": [
    "def a(state: State):\n",
    "    print(f'Node A 처리 중 현재 상태값 : {state[\"aggregate\"]}')\n",
    "    return {\"aggregate\": [\"A\"]}\n",
    "\n",
    "\n",
    "def b(state: State):\n",
    "    print(f'Node B 처리 중 현재 상태값 : {state[\"aggregate\"]}')\n",
    "    return {\"aggregate\": [\"B\"]}\n",
    "\n",
    "\n",
    "def c(state: State):\n",
    "    print(f'Node C 처리 중 현재 상태값 : {state[\"aggregate\"]}')\n",
    "    return {\"aggregate\": [\"C\"]}\n",
    "\n",
    "\n",
    "def d(state: State):\n",
    "    print(f'Node D 처리 중 현재 상태값 : {state[\"aggregate\"]}')\n",
    "    return {\"aggregate\": [\"D\"]}\n",
    "\n",
    "\n",
    "graph_builder = StateGraph(State)\n",
    "graph_builder.add_node(a)\n",
    "graph_builder.add_node(b)\n",
    "graph_builder.add_node(c)\n",
    "graph_builder.add_node(d)"
   ]
  },
  {
   "cell_type": "code",
   "execution_count": 14,
   "metadata": {},
   "outputs": [],
   "source": [
    "def route(state: State) -> Literal[\"b\", END]:\n",
    "    if len(state[\"aggregate\"]) < 7:\n",
    "        return \"b\"\n",
    "    else:\n",
    "        return END\n",
    "\n",
    "\n",
    "graph_builder.add_edge(START, \"a\")\n",
    "graph_builder.add_conditional_edges(\"a\", route)\n",
    "graph_builder.add_edge(\"b\", \"c\")\n",
    "graph_builder.add_edge(\"b\", \"d\")\n",
    "graph_builder.add_edge([\"c\", \"d\"], \"a\")\n",
    "graph = graph_builder.compile()"
   ]
  },
  {
   "cell_type": "code",
   "execution_count": null,
   "metadata": {},
   "outputs": [],
   "source": [
    "# from IPython.display import Image, display\n",
    "\n",
    "# display(Image(graph.get_graph().draw_mermaid_png()))"
   ]
  },
  {
   "cell_type": "code",
   "execution_count": 16,
   "metadata": {},
   "outputs": [
    {
     "name": "stdout",
     "output_type": "stream",
     "text": [
      "Node A 처리 중 현재 상태값 : []\n",
      "Node B 처리 중 현재 상태값 : ['A']\n",
      "Node C 처리 중 현재 상태값 : ['A', 'B']\n",
      "Node D 처리 중 현재 상태값 : ['A', 'B']\n",
      "Node A 처리 중 현재 상태값 : ['A', 'B', 'C', 'D']\n",
      "Node B 처리 중 현재 상태값 : ['A', 'B', 'C', 'D', 'A']\n",
      "Node C 처리 중 현재 상태값 : ['A', 'B', 'C', 'D', 'A', 'B']\n",
      "Node D 처리 중 현재 상태값 : ['A', 'B', 'C', 'D', 'A', 'B']\n",
      "Node A 처리 중 현재 상태값 : ['A', 'B', 'C', 'D', 'A', 'B', 'C', 'D']\n"
     ]
    }
   ],
   "source": [
    "result = graph.invoke({\"aggregate\": []})"
   ]
  },
  {
   "cell_type": "code",
   "execution_count": null,
   "metadata": {},
   "outputs": [],
   "source": []
  },
  {
   "cell_type": "markdown",
   "metadata": {},
   "source": [
    "## 3. 사용자 입력에 따른 반복 조건 설정하기"
   ]
  },
  {
   "attachments": {
    "image.png": {
     "image/png": "[encoded data removed]"
    }
   },
   "cell_type": "markdown",
   "metadata": {},
   "source": [
    "![image.png](attachment:image.png)"
   ]
  },
  {
   "cell_type": "code",
   "execution_count": 20,
   "metadata": {},
   "outputs": [],
   "source": [
    "from typing import Annotated\n",
    "\n",
    "from typing_extensions import TypedDict\n",
    "\n",
    "from langgraph.graph import StateGraph, START, END\n",
    "\n",
    "from langchain_core.messages import AIMessage, HumanMessage\n",
    "from langgraph.graph.message import add_messages\n",
    "\n",
    "\n",
    "class State(TypedDict):\n",
    "    human_messages: Annotated[list[HumanMessage], add_messages]\n",
    "    ai_messages: Annotated[list[AIMessage], add_messages]\n",
    "    retry_num : int"
   ]
  },
  {
   "cell_type": "code",
   "execution_count": 19,
   "metadata": {},
   "outputs": [
    {
     "data": {
      "text/plain": [
       "<langgraph.graph.state.StateGraph at 0x1fffb5e20d0>"
      ]
     },
     "execution_count": 19,
     "metadata": {},
     "output_type": "execute_result"
    }
   ],
   "source": [
    "def chatbot(state:State):\n",
    "    retry_num = state[\"retry_num\"]\n",
    "    user_input = input(f\"(현재 {retry_num}번째 답변) 사용자 입력: \")\n",
    "    ai_message = AIMessage(f\"{retry_num}번째 답변중!\")\n",
    "\n",
    "    return {\"human_messages\": [HumanMessage(content=user_input)], \"ai_messages\": [ai_message]}\n",
    "\n",
    "def retry(state: State):\n",
    "    return {\"retry_num\" : state[\"retry_num\"] + 1}\n",
    "\n",
    "\n",
    "graph_builder = StateGraph(State)\n",
    "graph_builder.add_node(\"chatbot\", chatbot)\n",
    "graph_builder.add_node(\"retry\", retry)"
   ]
  },
  {
   "cell_type": "code",
   "execution_count": 20,
   "metadata": {},
   "outputs": [],
   "source": [
    "def route(state: State):\n",
    "    if \"반복\" in state[\"human_messages\"][-1].content:\n",
    "        return \"retry\"\n",
    "    else:\n",
    "        return END\n",
    "\n",
    "\n",
    "graph_builder.add_edge(START, \"chatbot\")\n",
    "graph_builder.add_conditional_edges(\"chatbot\", route)\n",
    "graph_builder.add_edge(\"retry\", \"chatbot\")\n",
    "graph = graph_builder.compile()"
   ]
  },
  {
   "cell_type": "code",
   "execution_count": 22,
   "metadata": {},
   "outputs": [],
   "source": [
    "# from IPython.display import Image, display\n",
    "\n",
    "# display(Image(graph.get_graph().draw_mermaid_png()))"
   ]
  },
  {
   "cell_type": "code",
   "execution_count": 25,
   "metadata": {},
   "outputs": [
    {
     "name": "stdout",
     "output_type": "stream",
     "text": [
      "{'chatbot': {'human_messages': [HumanMessage(content='반복', additional_kwargs={}, response_metadata={}, id='73d7cb0c-144e-426c-a47c-46dd26e79f2f')], 'ai_messages': [AIMessage(content='0번째 답변중!', additional_kwargs={}, response_metadata={}, id='5fa5a932-648f-4abd-945b-6b03cddba297')]}}\n",
      "chatbot\n",
      "{'retry': {'retry_num': 1}}\n",
      "retry\n",
      "{'chatbot': {'human_messages': [HumanMessage(content='반복', additional_kwargs={}, response_metadata={}, id='eea39d17-d72e-441b-ad7e-6b8d851134ad')], 'ai_messages': [AIMessage(content='1번째 답변중!', additional_kwargs={}, response_metadata={}, id='ce50ed4f-5962-41ba-9b40-d4b5aab0337b')]}}\n",
      "chatbot\n",
      "{'retry': {'retry_num': 2}}\n",
      "retry\n",
      "{'chatbot': {'human_messages': [HumanMessage(content='반복', additional_kwargs={}, response_metadata={}, id='73ee72b3-dce7-49aa-a8d8-965adc1025ac')], 'ai_messages': [AIMessage(content='2번째 답변중!', additional_kwargs={}, response_metadata={}, id='69759157-bf64-41ce-9bdc-34c94e30daf7')]}}\n",
      "chatbot\n",
      "{'retry': {'retry_num': 3}}\n",
      "retry\n",
      "{'chatbot': {'human_messages': [HumanMessage(content='반복', additional_kwargs={}, response_metadata={}, id='f3f3c79a-464e-4d78-b09b-be1cca4ee5d6')], 'ai_messages': [AIMessage(content='3번째 답변중!', additional_kwargs={}, response_metadata={}, id='4ee7e4c4-22a4-4f5e-b994-13522f882eaa')]}}\n",
      "chatbot\n",
      "{'retry': {'retry_num': 4}}\n",
      "retry\n",
      "{'chatbot': {'human_messages': [HumanMessage(content='그만', additional_kwargs={}, response_metadata={}, id='c5ecc619-d2ce-4f7d-b67d-e4e24ed79d77')], 'ai_messages': [AIMessage(content='4번째 답변중!', additional_kwargs={}, response_metadata={}, id='f4798127-9dda-4485-a8cc-1adcfe8cda09')]}}\n",
      "chatbot\n"
     ]
    }
   ],
   "source": [
    "for chunk in graph.stream({\"human_messages\" : \"반복\", \"retry_num\": 0}, stream_mode=\"updates\"):\n",
    "    print(chunk)\n",
    "    for node, value in chunk.items():\n",
    "        if node:\n",
    "            print(node)\n",
    "        if \"messages\" in value:\n",
    "            print(value['messages'].content)"
   ]
  },
  {
   "cell_type": "code",
   "execution_count": 26,
   "metadata": {},
   "outputs": [
    {
     "data": {
      "text/plain": [
       "{'human_messages': [HumanMessage(content='반복', additional_kwargs={}, response_metadata={}, id='b811fac2-5a78-484a-a2dd-ebad06c02034'),\n",
       "  HumanMessage(content='반복', additional_kwargs={}, response_metadata={}, id='37f0798b-f29e-4bc2-8f3a-5f06f9e60e33'),\n",
       "  HumanMessage(content='반복', additional_kwargs={}, response_metadata={}, id='e10b6430-6a16-40d3-b409-1cbfb002cecc'),\n",
       "  HumanMessage(content='반복', additional_kwargs={}, response_metadata={}, id='dfc8b4f8-c719-40ef-8d20-b71fe1fd655a'),\n",
       "  HumanMessage(content='반복', additional_kwargs={}, response_metadata={}, id='0ad23a0c-87c6-489e-aa5f-85e149a19f60'),\n",
       "  HumanMessage(content='그만', additional_kwargs={}, response_metadata={}, id='b18ef2b5-8b5a-4441-9568-19015bf77210')],\n",
       " 'ai_messages': [AIMessage(content='0번째 답변중!', additional_kwargs={}, response_metadata={}, id='b1e61f19-62a4-4ac1-9ab7-91fedd2aa38e'),\n",
       "  AIMessage(content='1번째 답변중!', additional_kwargs={}, response_metadata={}, id='275e4a50-7d0b-4a1f-a5e1-8800f87fad39'),\n",
       "  AIMessage(content='2번째 답변중!', additional_kwargs={}, response_metadata={}, id='48e93710-634e-4485-ae65-a244500ec56f'),\n",
       "  AIMessage(content='3번째 답변중!', additional_kwargs={}, response_metadata={}, id='ac601446-cc8a-46a6-b4fb-33324dfe2d71'),\n",
       "  AIMessage(content='4번째 답변중!', additional_kwargs={}, response_metadata={}, id='ef4230e0-da9b-423d-81b1-1637182226d9')],\n",
       " 'retry_num': 4}"
      ]
     },
     "execution_count": 26,
     "metadata": {},
     "output_type": "execute_result"
    }
   ],
   "source": [
    "graph.invoke({\"human_messages\" : \"반복\", \"retry_num\": 0})"
   ]
  },
  {
   "cell_type": "code",
   "execution_count": null,
   "metadata": {},
   "outputs": [],
   "source": []
  },
  {
   "cell_type": "code",
   "execution_count": null,
   "metadata": {},
   "outputs": [],
   "source": []
  }
 ],
 "metadata": {
  "kernelspec": {
   "display_name": "Python 3",
   "language": "python",
   "name": "python3"
  },
  "language_info": {
   "codemirror_mode": {
    "name": "ipython",
    "version": 3
   },
   "file_extension": ".py",
   "mimetype": "text/x-python",
   "name": "python",
   "nbconvert_exporter": "python",
   "pygments_lexer": "ipython3",
   "version": "3.13.5"
  }
 },
 "nbformat": 4,
 "nbformat_minor": 2
}
